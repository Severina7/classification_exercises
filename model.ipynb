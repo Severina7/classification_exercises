{
 "cells": [
  {
   "cell_type": "markdown",
   "id": "c2d95146",
   "metadata": {},
   "source": [
    "# Model Exercises\n",
    "Using the titanic data, in your classification-exercises repository, create a notebook, model.ipynb where you will do the following:"
   ]
  },
  {
   "cell_type": "code",
   "execution_count": 1,
   "id": "8019058b",
   "metadata": {},
   "outputs": [],
   "source": [
    "import pandas as pd\n",
    "import numpy as np\n",
    "import matplotlib.pyplot as plt\n",
    "import scipy.stats\n",
    "\n",
    "import os\n",
    "import acquire\n",
    "import prepare"
   ]
  },
  {
   "cell_type": "code",
   "execution_count": 2,
   "id": "60324bfb",
   "metadata": {},
   "outputs": [],
   "source": [
    "import warnings\n",
    "warnings.filterwarnings(\"ignore\")\n",
    "import seaborn as sns\n",
    "\n",
    "from pydataset import data\n",
    "\n",
    "from sklearn.model_selection import train_test_split\n",
    "from sklearn.tree import DecisionTreeClassifier, plot_tree\n",
    "from sklearn.metrics import classification_report\n",
    "from sklearn.metrics import confusion_matrix"
   ]
  },
  {
   "cell_type": "markdown",
   "id": "9a77be3b",
   "metadata": {},
   "source": [
    "## 1. \n",
    "- What is your baseline prediction?\n",
    "- What is your baseline accuracy?\n",
    "Remember: your baseline prediction for a classification problem is predicting the most prevelant class in the training dataset (the mode). When you make those predictions, what is your accuracy? This is your baseline accuracy."
   ]
  },
  {
   "cell_type": "code",
   "execution_count": 3,
   "id": "baacb902",
   "metadata": {},
   "outputs": [
    {
     "data": {
      "text/html": [
       "<div>\n",
       "<style scoped>\n",
       "    .dataframe tbody tr th:only-of-type {\n",
       "        vertical-align: middle;\n",
       "    }\n",
       "\n",
       "    .dataframe tbody tr th {\n",
       "        vertical-align: top;\n",
       "    }\n",
       "\n",
       "    .dataframe thead th {\n",
       "        text-align: right;\n",
       "    }\n",
       "</style>\n",
       "<table border=\"1\" class=\"dataframe\">\n",
       "  <thead>\n",
       "    <tr style=\"text-align: right;\">\n",
       "      <th></th>\n",
       "      <th>passenger_id</th>\n",
       "      <th>survived</th>\n",
       "      <th>pclass</th>\n",
       "      <th>sex</th>\n",
       "      <th>age</th>\n",
       "      <th>sibsp</th>\n",
       "      <th>parch</th>\n",
       "      <th>fare</th>\n",
       "      <th>embarked</th>\n",
       "      <th>class</th>\n",
       "      <th>deck</th>\n",
       "      <th>embark_town</th>\n",
       "      <th>alone</th>\n",
       "    </tr>\n",
       "  </thead>\n",
       "  <tbody>\n",
       "    <tr>\n",
       "      <th>0</th>\n",
       "      <td>0</td>\n",
       "      <td>0</td>\n",
       "      <td>3</td>\n",
       "      <td>male</td>\n",
       "      <td>22.0</td>\n",
       "      <td>1</td>\n",
       "      <td>0</td>\n",
       "      <td>7.2500</td>\n",
       "      <td>S</td>\n",
       "      <td>Third</td>\n",
       "      <td>NaN</td>\n",
       "      <td>Southampton</td>\n",
       "      <td>0</td>\n",
       "    </tr>\n",
       "    <tr>\n",
       "      <th>1</th>\n",
       "      <td>1</td>\n",
       "      <td>1</td>\n",
       "      <td>1</td>\n",
       "      <td>female</td>\n",
       "      <td>38.0</td>\n",
       "      <td>1</td>\n",
       "      <td>0</td>\n",
       "      <td>71.2833</td>\n",
       "      <td>C</td>\n",
       "      <td>First</td>\n",
       "      <td>C</td>\n",
       "      <td>Cherbourg</td>\n",
       "      <td>0</td>\n",
       "    </tr>\n",
       "    <tr>\n",
       "      <th>2</th>\n",
       "      <td>2</td>\n",
       "      <td>1</td>\n",
       "      <td>3</td>\n",
       "      <td>female</td>\n",
       "      <td>26.0</td>\n",
       "      <td>0</td>\n",
       "      <td>0</td>\n",
       "      <td>7.9250</td>\n",
       "      <td>S</td>\n",
       "      <td>Third</td>\n",
       "      <td>NaN</td>\n",
       "      <td>Southampton</td>\n",
       "      <td>1</td>\n",
       "    </tr>\n",
       "    <tr>\n",
       "      <th>3</th>\n",
       "      <td>3</td>\n",
       "      <td>1</td>\n",
       "      <td>1</td>\n",
       "      <td>female</td>\n",
       "      <td>35.0</td>\n",
       "      <td>1</td>\n",
       "      <td>0</td>\n",
       "      <td>53.1000</td>\n",
       "      <td>S</td>\n",
       "      <td>First</td>\n",
       "      <td>C</td>\n",
       "      <td>Southampton</td>\n",
       "      <td>0</td>\n",
       "    </tr>\n",
       "    <tr>\n",
       "      <th>4</th>\n",
       "      <td>4</td>\n",
       "      <td>0</td>\n",
       "      <td>3</td>\n",
       "      <td>male</td>\n",
       "      <td>35.0</td>\n",
       "      <td>0</td>\n",
       "      <td>0</td>\n",
       "      <td>8.0500</td>\n",
       "      <td>S</td>\n",
       "      <td>Third</td>\n",
       "      <td>NaN</td>\n",
       "      <td>Southampton</td>\n",
       "      <td>1</td>\n",
       "    </tr>\n",
       "  </tbody>\n",
       "</table>\n",
       "</div>"
      ],
      "text/plain": [
       "   passenger_id  survived  pclass     sex   age  sibsp  parch     fare  \\\n",
       "0             0         0       3    male  22.0      1      0   7.2500   \n",
       "1             1         1       1  female  38.0      1      0  71.2833   \n",
       "2             2         1       3  female  26.0      0      0   7.9250   \n",
       "3             3         1       1  female  35.0      1      0  53.1000   \n",
       "4             4         0       3    male  35.0      0      0   8.0500   \n",
       "\n",
       "  embarked  class deck  embark_town  alone  \n",
       "0        S  Third  NaN  Southampton      0  \n",
       "1        C  First    C    Cherbourg      0  \n",
       "2        S  Third  NaN  Southampton      1  \n",
       "3        S  First    C  Southampton      0  \n",
       "4        S  Third  NaN  Southampton      1  "
      ]
     },
     "execution_count": 3,
     "metadata": {},
     "output_type": "execute_result"
    }
   ],
   "source": [
    "titanic = acquire.get_titanic_data()\n",
    "titanic.head()"
   ]
  },
  {
   "cell_type": "code",
   "execution_count": 48,
   "id": "3906ee39",
   "metadata": {},
   "outputs": [
    {
     "data": {
      "text/plain": [
       "(891, 13)"
      ]
     },
     "execution_count": 48,
     "metadata": {},
     "output_type": "execute_result"
    }
   ],
   "source": [
    "titanic.shape"
   ]
  },
  {
   "cell_type": "code",
   "execution_count": 35,
   "id": "4e72453c",
   "metadata": {},
   "outputs": [
    {
     "name": "stdout",
     "output_type": "stream",
     "text": [
      "<class 'pandas.core.frame.DataFrame'>\n",
      "Int64Index: 891 entries, 0 to 890\n",
      "Data columns (total 13 columns):\n",
      " #   Column        Non-Null Count  Dtype  \n",
      "---  ------        --------------  -----  \n",
      " 0   passenger_id  891 non-null    int64  \n",
      " 1   survived      891 non-null    int64  \n",
      " 2   pclass        891 non-null    int64  \n",
      " 3   sex           891 non-null    object \n",
      " 4   age           714 non-null    float64\n",
      " 5   sibsp         891 non-null    int64  \n",
      " 6   parch         891 non-null    int64  \n",
      " 7   fare          891 non-null    float64\n",
      " 8   embarked      889 non-null    object \n",
      " 9   class         891 non-null    object \n",
      " 10  deck          203 non-null    object \n",
      " 11  embark_town   889 non-null    object \n",
      " 12  alone         891 non-null    int64  \n",
      "dtypes: float64(2), int64(6), object(5)\n",
      "memory usage: 97.5+ KB\n"
     ]
    }
   ],
   "source": [
    "titanic.info()"
   ]
  },
  {
   "cell_type": "code",
   "execution_count": 38,
   "id": "a2655501",
   "metadata": {},
   "outputs": [
    {
     "data": {
      "text/plain": [
       "0.3838383838383838"
      ]
     },
     "execution_count": 38,
     "metadata": {},
     "output_type": "execute_result"
    }
   ],
   "source": [
    "titanic.survived.mean()"
   ]
  },
  {
   "cell_type": "code",
   "execution_count": 4,
   "id": "147abf3c",
   "metadata": {
    "scrolled": false
   },
   "outputs": [
    {
     "data": {
      "text/html": [
       "<div>\n",
       "<style scoped>\n",
       "    .dataframe tbody tr th:only-of-type {\n",
       "        vertical-align: middle;\n",
       "    }\n",
       "\n",
       "    .dataframe tbody tr th {\n",
       "        vertical-align: top;\n",
       "    }\n",
       "\n",
       "    .dataframe thead th {\n",
       "        text-align: right;\n",
       "    }\n",
       "</style>\n",
       "<table border=\"1\" class=\"dataframe\">\n",
       "  <thead>\n",
       "    <tr style=\"text-align: right;\">\n",
       "      <th></th>\n",
       "      <th>survived</th>\n",
       "      <th>pclass</th>\n",
       "      <th>age</th>\n",
       "      <th>sibsp</th>\n",
       "      <th>parch</th>\n",
       "      <th>fare</th>\n",
       "      <th>alone</th>\n",
       "      <th>sex_male</th>\n",
       "      <th>embark_town_Queenstown</th>\n",
       "      <th>embark_town_Southampton</th>\n",
       "    </tr>\n",
       "  </thead>\n",
       "  <tbody>\n",
       "    <tr>\n",
       "      <th>583</th>\n",
       "      <td>0</td>\n",
       "      <td>1</td>\n",
       "      <td>36.000000</td>\n",
       "      <td>0</td>\n",
       "      <td>0</td>\n",
       "      <td>40.1250</td>\n",
       "      <td>1</td>\n",
       "      <td>1</td>\n",
       "      <td>0</td>\n",
       "      <td>0</td>\n",
       "    </tr>\n",
       "    <tr>\n",
       "      <th>165</th>\n",
       "      <td>1</td>\n",
       "      <td>3</td>\n",
       "      <td>9.000000</td>\n",
       "      <td>0</td>\n",
       "      <td>2</td>\n",
       "      <td>20.5250</td>\n",
       "      <td>0</td>\n",
       "      <td>1</td>\n",
       "      <td>0</td>\n",
       "      <td>1</td>\n",
       "    </tr>\n",
       "    <tr>\n",
       "      <th>50</th>\n",
       "      <td>0</td>\n",
       "      <td>3</td>\n",
       "      <td>7.000000</td>\n",
       "      <td>4</td>\n",
       "      <td>1</td>\n",
       "      <td>39.6875</td>\n",
       "      <td>0</td>\n",
       "      <td>1</td>\n",
       "      <td>0</td>\n",
       "      <td>1</td>\n",
       "    </tr>\n",
       "    <tr>\n",
       "      <th>259</th>\n",
       "      <td>1</td>\n",
       "      <td>2</td>\n",
       "      <td>50.000000</td>\n",
       "      <td>0</td>\n",
       "      <td>1</td>\n",
       "      <td>26.0000</td>\n",
       "      <td>0</td>\n",
       "      <td>0</td>\n",
       "      <td>0</td>\n",
       "      <td>1</td>\n",
       "    </tr>\n",
       "    <tr>\n",
       "      <th>306</th>\n",
       "      <td>1</td>\n",
       "      <td>1</td>\n",
       "      <td>29.678105</td>\n",
       "      <td>0</td>\n",
       "      <td>0</td>\n",
       "      <td>110.8833</td>\n",
       "      <td>1</td>\n",
       "      <td>0</td>\n",
       "      <td>0</td>\n",
       "      <td>0</td>\n",
       "    </tr>\n",
       "    <tr>\n",
       "      <th>...</th>\n",
       "      <td>...</td>\n",
       "      <td>...</td>\n",
       "      <td>...</td>\n",
       "      <td>...</td>\n",
       "      <td>...</td>\n",
       "      <td>...</td>\n",
       "      <td>...</td>\n",
       "      <td>...</td>\n",
       "      <td>...</td>\n",
       "      <td>...</td>\n",
       "    </tr>\n",
       "    <tr>\n",
       "      <th>313</th>\n",
       "      <td>0</td>\n",
       "      <td>3</td>\n",
       "      <td>28.000000</td>\n",
       "      <td>0</td>\n",
       "      <td>0</td>\n",
       "      <td>7.8958</td>\n",
       "      <td>1</td>\n",
       "      <td>1</td>\n",
       "      <td>0</td>\n",
       "      <td>1</td>\n",
       "    </tr>\n",
       "    <tr>\n",
       "      <th>636</th>\n",
       "      <td>0</td>\n",
       "      <td>3</td>\n",
       "      <td>32.000000</td>\n",
       "      <td>0</td>\n",
       "      <td>0</td>\n",
       "      <td>7.9250</td>\n",
       "      <td>1</td>\n",
       "      <td>1</td>\n",
       "      <td>0</td>\n",
       "      <td>1</td>\n",
       "    </tr>\n",
       "    <tr>\n",
       "      <th>222</th>\n",
       "      <td>0</td>\n",
       "      <td>3</td>\n",
       "      <td>51.000000</td>\n",
       "      <td>0</td>\n",
       "      <td>0</td>\n",
       "      <td>8.0500</td>\n",
       "      <td>1</td>\n",
       "      <td>1</td>\n",
       "      <td>0</td>\n",
       "      <td>1</td>\n",
       "    </tr>\n",
       "    <tr>\n",
       "      <th>485</th>\n",
       "      <td>0</td>\n",
       "      <td>3</td>\n",
       "      <td>29.678105</td>\n",
       "      <td>3</td>\n",
       "      <td>1</td>\n",
       "      <td>25.4667</td>\n",
       "      <td>0</td>\n",
       "      <td>0</td>\n",
       "      <td>0</td>\n",
       "      <td>1</td>\n",
       "    </tr>\n",
       "    <tr>\n",
       "      <th>744</th>\n",
       "      <td>1</td>\n",
       "      <td>3</td>\n",
       "      <td>31.000000</td>\n",
       "      <td>0</td>\n",
       "      <td>0</td>\n",
       "      <td>7.9250</td>\n",
       "      <td>1</td>\n",
       "      <td>1</td>\n",
       "      <td>0</td>\n",
       "      <td>1</td>\n",
       "    </tr>\n",
       "  </tbody>\n",
       "</table>\n",
       "<p>498 rows × 10 columns</p>\n",
       "</div>"
      ],
      "text/plain": [
       "     survived  pclass        age  sibsp  parch      fare  alone  sex_male  \\\n",
       "583         0       1  36.000000      0      0   40.1250      1         1   \n",
       "165         1       3   9.000000      0      2   20.5250      0         1   \n",
       "50          0       3   7.000000      4      1   39.6875      0         1   \n",
       "259         1       2  50.000000      0      1   26.0000      0         0   \n",
       "306         1       1  29.678105      0      0  110.8833      1         0   \n",
       "..        ...     ...        ...    ...    ...       ...    ...       ...   \n",
       "313         0       3  28.000000      0      0    7.8958      1         1   \n",
       "636         0       3  32.000000      0      0    7.9250      1         1   \n",
       "222         0       3  51.000000      0      0    8.0500      1         1   \n",
       "485         0       3  29.678105      3      1   25.4667      0         0   \n",
       "744         1       3  31.000000      0      0    7.9250      1         1   \n",
       "\n",
       "     embark_town_Queenstown  embark_town_Southampton  \n",
       "583                       0                        0  \n",
       "165                       0                        1  \n",
       "50                        0                        1  \n",
       "259                       0                        1  \n",
       "306                       0                        0  \n",
       "..                      ...                      ...  \n",
       "313                       0                        1  \n",
       "636                       0                        1  \n",
       "222                       0                        1  \n",
       "485                       0                        1  \n",
       "744                       0                        1  \n",
       "\n",
       "[498 rows x 10 columns]"
      ]
     },
     "execution_count": 4,
     "metadata": {},
     "output_type": "execute_result"
    }
   ],
   "source": [
    "train, validate, test = prepare.prep_titanic_data(titanic)\n",
    "train"
   ]
  },
  {
   "cell_type": "code",
   "execution_count": 5,
   "id": "29de5f96",
   "metadata": {},
   "outputs": [
    {
     "data": {
      "text/html": [
       "<div>\n",
       "<style scoped>\n",
       "    .dataframe tbody tr th:only-of-type {\n",
       "        vertical-align: middle;\n",
       "    }\n",
       "\n",
       "    .dataframe tbody tr th {\n",
       "        vertical-align: top;\n",
       "    }\n",
       "\n",
       "    .dataframe thead th {\n",
       "        text-align: right;\n",
       "    }\n",
       "</style>\n",
       "<table border=\"1\" class=\"dataframe\">\n",
       "  <thead>\n",
       "    <tr style=\"text-align: right;\">\n",
       "      <th></th>\n",
       "      <th>survived</th>\n",
       "      <th>pclass</th>\n",
       "      <th>age</th>\n",
       "      <th>sibsp</th>\n",
       "      <th>parch</th>\n",
       "      <th>fare</th>\n",
       "      <th>alone</th>\n",
       "      <th>sex_male</th>\n",
       "      <th>embark_town_Queenstown</th>\n",
       "      <th>embark_town_Southampton</th>\n",
       "    </tr>\n",
       "  </thead>\n",
       "  <tbody>\n",
       "    <tr>\n",
       "      <th>610</th>\n",
       "      <td>0</td>\n",
       "      <td>3</td>\n",
       "      <td>39.000000</td>\n",
       "      <td>1</td>\n",
       "      <td>5</td>\n",
       "      <td>31.2750</td>\n",
       "      <td>0</td>\n",
       "      <td>0</td>\n",
       "      <td>0</td>\n",
       "      <td>1</td>\n",
       "    </tr>\n",
       "    <tr>\n",
       "      <th>424</th>\n",
       "      <td>0</td>\n",
       "      <td>3</td>\n",
       "      <td>18.000000</td>\n",
       "      <td>1</td>\n",
       "      <td>1</td>\n",
       "      <td>20.2125</td>\n",
       "      <td>0</td>\n",
       "      <td>1</td>\n",
       "      <td>0</td>\n",
       "      <td>1</td>\n",
       "    </tr>\n",
       "    <tr>\n",
       "      <th>568</th>\n",
       "      <td>0</td>\n",
       "      <td>3</td>\n",
       "      <td>29.678105</td>\n",
       "      <td>0</td>\n",
       "      <td>0</td>\n",
       "      <td>7.2292</td>\n",
       "      <td>1</td>\n",
       "      <td>1</td>\n",
       "      <td>0</td>\n",
       "      <td>0</td>\n",
       "    </tr>\n",
       "    <tr>\n",
       "      <th>334</th>\n",
       "      <td>1</td>\n",
       "      <td>1</td>\n",
       "      <td>29.678105</td>\n",
       "      <td>1</td>\n",
       "      <td>0</td>\n",
       "      <td>133.6500</td>\n",
       "      <td>0</td>\n",
       "      <td>0</td>\n",
       "      <td>0</td>\n",
       "      <td>1</td>\n",
       "    </tr>\n",
       "    <tr>\n",
       "      <th>101</th>\n",
       "      <td>0</td>\n",
       "      <td>3</td>\n",
       "      <td>29.678105</td>\n",
       "      <td>0</td>\n",
       "      <td>0</td>\n",
       "      <td>7.8958</td>\n",
       "      <td>1</td>\n",
       "      <td>1</td>\n",
       "      <td>0</td>\n",
       "      <td>1</td>\n",
       "    </tr>\n",
       "    <tr>\n",
       "      <th>...</th>\n",
       "      <td>...</td>\n",
       "      <td>...</td>\n",
       "      <td>...</td>\n",
       "      <td>...</td>\n",
       "      <td>...</td>\n",
       "      <td>...</td>\n",
       "      <td>...</td>\n",
       "      <td>...</td>\n",
       "      <td>...</td>\n",
       "      <td>...</td>\n",
       "    </tr>\n",
       "    <tr>\n",
       "      <th>176</th>\n",
       "      <td>0</td>\n",
       "      <td>3</td>\n",
       "      <td>29.678105</td>\n",
       "      <td>3</td>\n",
       "      <td>1</td>\n",
       "      <td>25.4667</td>\n",
       "      <td>0</td>\n",
       "      <td>1</td>\n",
       "      <td>0</td>\n",
       "      <td>1</td>\n",
       "    </tr>\n",
       "    <tr>\n",
       "      <th>372</th>\n",
       "      <td>0</td>\n",
       "      <td>3</td>\n",
       "      <td>19.000000</td>\n",
       "      <td>0</td>\n",
       "      <td>0</td>\n",
       "      <td>8.0500</td>\n",
       "      <td>1</td>\n",
       "      <td>1</td>\n",
       "      <td>0</td>\n",
       "      <td>1</td>\n",
       "    </tr>\n",
       "    <tr>\n",
       "      <th>737</th>\n",
       "      <td>1</td>\n",
       "      <td>1</td>\n",
       "      <td>35.000000</td>\n",
       "      <td>0</td>\n",
       "      <td>0</td>\n",
       "      <td>512.3292</td>\n",
       "      <td>1</td>\n",
       "      <td>1</td>\n",
       "      <td>0</td>\n",
       "      <td>0</td>\n",
       "    </tr>\n",
       "    <tr>\n",
       "      <th>862</th>\n",
       "      <td>1</td>\n",
       "      <td>1</td>\n",
       "      <td>48.000000</td>\n",
       "      <td>0</td>\n",
       "      <td>0</td>\n",
       "      <td>25.9292</td>\n",
       "      <td>1</td>\n",
       "      <td>0</td>\n",
       "      <td>0</td>\n",
       "      <td>1</td>\n",
       "    </tr>\n",
       "    <tr>\n",
       "      <th>26</th>\n",
       "      <td>0</td>\n",
       "      <td>3</td>\n",
       "      <td>29.678105</td>\n",
       "      <td>0</td>\n",
       "      <td>0</td>\n",
       "      <td>7.2250</td>\n",
       "      <td>1</td>\n",
       "      <td>1</td>\n",
       "      <td>0</td>\n",
       "      <td>0</td>\n",
       "    </tr>\n",
       "  </tbody>\n",
       "</table>\n",
       "<p>214 rows × 10 columns</p>\n",
       "</div>"
      ],
      "text/plain": [
       "     survived  pclass        age  sibsp  parch      fare  alone  sex_male  \\\n",
       "610         0       3  39.000000      1      5   31.2750      0         0   \n",
       "424         0       3  18.000000      1      1   20.2125      0         1   \n",
       "568         0       3  29.678105      0      0    7.2292      1         1   \n",
       "334         1       1  29.678105      1      0  133.6500      0         0   \n",
       "101         0       3  29.678105      0      0    7.8958      1         1   \n",
       "..        ...     ...        ...    ...    ...       ...    ...       ...   \n",
       "176         0       3  29.678105      3      1   25.4667      0         1   \n",
       "372         0       3  19.000000      0      0    8.0500      1         1   \n",
       "737         1       1  35.000000      0      0  512.3292      1         1   \n",
       "862         1       1  48.000000      0      0   25.9292      1         0   \n",
       "26          0       3  29.678105      0      0    7.2250      1         1   \n",
       "\n",
       "     embark_town_Queenstown  embark_town_Southampton  \n",
       "610                       0                        1  \n",
       "424                       0                        1  \n",
       "568                       0                        0  \n",
       "334                       0                        1  \n",
       "101                       0                        1  \n",
       "..                      ...                      ...  \n",
       "176                       0                        1  \n",
       "372                       0                        1  \n",
       "737                       0                        0  \n",
       "862                       0                        1  \n",
       "26                        0                        0  \n",
       "\n",
       "[214 rows x 10 columns]"
      ]
     },
     "execution_count": 5,
     "metadata": {},
     "output_type": "execute_result"
    }
   ],
   "source": [
    "validate"
   ]
  },
  {
   "cell_type": "code",
   "execution_count": 6,
   "id": "726f1e81",
   "metadata": {},
   "outputs": [
    {
     "data": {
      "text/html": [
       "<div>\n",
       "<style scoped>\n",
       "    .dataframe tbody tr th:only-of-type {\n",
       "        vertical-align: middle;\n",
       "    }\n",
       "\n",
       "    .dataframe tbody tr th {\n",
       "        vertical-align: top;\n",
       "    }\n",
       "\n",
       "    .dataframe thead th {\n",
       "        text-align: right;\n",
       "    }\n",
       "</style>\n",
       "<table border=\"1\" class=\"dataframe\">\n",
       "  <thead>\n",
       "    <tr style=\"text-align: right;\">\n",
       "      <th></th>\n",
       "      <th>survived</th>\n",
       "      <th>pclass</th>\n",
       "      <th>age</th>\n",
       "      <th>sibsp</th>\n",
       "      <th>parch</th>\n",
       "      <th>fare</th>\n",
       "      <th>alone</th>\n",
       "      <th>sex_male</th>\n",
       "      <th>embark_town_Queenstown</th>\n",
       "      <th>embark_town_Southampton</th>\n",
       "    </tr>\n",
       "  </thead>\n",
       "  <tbody>\n",
       "    <tr>\n",
       "      <th>561</th>\n",
       "      <td>0</td>\n",
       "      <td>3</td>\n",
       "      <td>40.000000</td>\n",
       "      <td>0</td>\n",
       "      <td>0</td>\n",
       "      <td>7.8958</td>\n",
       "      <td>1</td>\n",
       "      <td>1</td>\n",
       "      <td>0</td>\n",
       "      <td>1</td>\n",
       "    </tr>\n",
       "    <tr>\n",
       "      <th>641</th>\n",
       "      <td>1</td>\n",
       "      <td>1</td>\n",
       "      <td>24.000000</td>\n",
       "      <td>0</td>\n",
       "      <td>0</td>\n",
       "      <td>69.3000</td>\n",
       "      <td>1</td>\n",
       "      <td>0</td>\n",
       "      <td>0</td>\n",
       "      <td>0</td>\n",
       "    </tr>\n",
       "    <tr>\n",
       "      <th>400</th>\n",
       "      <td>1</td>\n",
       "      <td>3</td>\n",
       "      <td>39.000000</td>\n",
       "      <td>0</td>\n",
       "      <td>0</td>\n",
       "      <td>7.9250</td>\n",
       "      <td>1</td>\n",
       "      <td>1</td>\n",
       "      <td>0</td>\n",
       "      <td>1</td>\n",
       "    </tr>\n",
       "    <tr>\n",
       "      <th>498</th>\n",
       "      <td>0</td>\n",
       "      <td>1</td>\n",
       "      <td>25.000000</td>\n",
       "      <td>1</td>\n",
       "      <td>2</td>\n",
       "      <td>151.5500</td>\n",
       "      <td>0</td>\n",
       "      <td>0</td>\n",
       "      <td>0</td>\n",
       "      <td>1</td>\n",
       "    </tr>\n",
       "    <tr>\n",
       "      <th>875</th>\n",
       "      <td>1</td>\n",
       "      <td>3</td>\n",
       "      <td>15.000000</td>\n",
       "      <td>0</td>\n",
       "      <td>0</td>\n",
       "      <td>7.2250</td>\n",
       "      <td>1</td>\n",
       "      <td>0</td>\n",
       "      <td>0</td>\n",
       "      <td>0</td>\n",
       "    </tr>\n",
       "    <tr>\n",
       "      <th>...</th>\n",
       "      <td>...</td>\n",
       "      <td>...</td>\n",
       "      <td>...</td>\n",
       "      <td>...</td>\n",
       "      <td>...</td>\n",
       "      <td>...</td>\n",
       "      <td>...</td>\n",
       "      <td>...</td>\n",
       "      <td>...</td>\n",
       "      <td>...</td>\n",
       "    </tr>\n",
       "    <tr>\n",
       "      <th>339</th>\n",
       "      <td>0</td>\n",
       "      <td>1</td>\n",
       "      <td>45.000000</td>\n",
       "      <td>0</td>\n",
       "      <td>0</td>\n",
       "      <td>35.5000</td>\n",
       "      <td>1</td>\n",
       "      <td>1</td>\n",
       "      <td>0</td>\n",
       "      <td>1</td>\n",
       "    </tr>\n",
       "    <tr>\n",
       "      <th>841</th>\n",
       "      <td>0</td>\n",
       "      <td>2</td>\n",
       "      <td>16.000000</td>\n",
       "      <td>0</td>\n",
       "      <td>0</td>\n",
       "      <td>10.5000</td>\n",
       "      <td>1</td>\n",
       "      <td>1</td>\n",
       "      <td>0</td>\n",
       "      <td>1</td>\n",
       "    </tr>\n",
       "    <tr>\n",
       "      <th>442</th>\n",
       "      <td>0</td>\n",
       "      <td>3</td>\n",
       "      <td>25.000000</td>\n",
       "      <td>1</td>\n",
       "      <td>0</td>\n",
       "      <td>7.7750</td>\n",
       "      <td>0</td>\n",
       "      <td>1</td>\n",
       "      <td>0</td>\n",
       "      <td>1</td>\n",
       "    </tr>\n",
       "    <tr>\n",
       "      <th>815</th>\n",
       "      <td>0</td>\n",
       "      <td>1</td>\n",
       "      <td>29.678105</td>\n",
       "      <td>0</td>\n",
       "      <td>0</td>\n",
       "      <td>0.0000</td>\n",
       "      <td>1</td>\n",
       "      <td>1</td>\n",
       "      <td>0</td>\n",
       "      <td>1</td>\n",
       "    </tr>\n",
       "    <tr>\n",
       "      <th>53</th>\n",
       "      <td>1</td>\n",
       "      <td>2</td>\n",
       "      <td>29.000000</td>\n",
       "      <td>1</td>\n",
       "      <td>0</td>\n",
       "      <td>26.0000</td>\n",
       "      <td>0</td>\n",
       "      <td>0</td>\n",
       "      <td>0</td>\n",
       "      <td>1</td>\n",
       "    </tr>\n",
       "  </tbody>\n",
       "</table>\n",
       "<p>179 rows × 10 columns</p>\n",
       "</div>"
      ],
      "text/plain": [
       "     survived  pclass        age  sibsp  parch      fare  alone  sex_male  \\\n",
       "561         0       3  40.000000      0      0    7.8958      1         1   \n",
       "641         1       1  24.000000      0      0   69.3000      1         0   \n",
       "400         1       3  39.000000      0      0    7.9250      1         1   \n",
       "498         0       1  25.000000      1      2  151.5500      0         0   \n",
       "875         1       3  15.000000      0      0    7.2250      1         0   \n",
       "..        ...     ...        ...    ...    ...       ...    ...       ...   \n",
       "339         0       1  45.000000      0      0   35.5000      1         1   \n",
       "841         0       2  16.000000      0      0   10.5000      1         1   \n",
       "442         0       3  25.000000      1      0    7.7750      0         1   \n",
       "815         0       1  29.678105      0      0    0.0000      1         1   \n",
       "53          1       2  29.000000      1      0   26.0000      0         0   \n",
       "\n",
       "     embark_town_Queenstown  embark_town_Southampton  \n",
       "561                       0                        1  \n",
       "641                       0                        0  \n",
       "400                       0                        1  \n",
       "498                       0                        1  \n",
       "875                       0                        0  \n",
       "..                      ...                      ...  \n",
       "339                       0                        1  \n",
       "841                       0                        1  \n",
       "442                       0                        1  \n",
       "815                       0                        1  \n",
       "53                        0                        1  \n",
       "\n",
       "[179 rows x 10 columns]"
      ]
     },
     "execution_count": 6,
     "metadata": {},
     "output_type": "execute_result"
    }
   ],
   "source": [
    "test"
   ]
  },
  {
   "cell_type": "markdown",
   "id": "256b2cb9",
   "metadata": {},
   "source": [
    "## 1. My baseline prediction: Most passengers did not survive."
   ]
  },
  {
   "cell_type": "code",
   "execution_count": 45,
   "id": "abe679d6",
   "metadata": {},
   "outputs": [
    {
     "data": {
      "text/plain": [
       "0    307\n",
       "1    191\n",
       "Name: survived, dtype: int64"
      ]
     },
     "execution_count": 45,
     "metadata": {},
     "output_type": "execute_result"
    }
   ],
   "source": [
    "train.survived.value_counts()"
   ]
  },
  {
   "cell_type": "code",
   "execution_count": 64,
   "id": "4a8949f7",
   "metadata": {},
   "outputs": [
    {
     "data": {
      "text/plain": [
       "0.6164658634538153"
      ]
     },
     "execution_count": 64,
     "metadata": {},
     "output_type": "execute_result"
    }
   ],
   "source": [
    "train['baseline_prediction'] = 0\n",
    "baseline_accuracy = (train.baseline_prediction == train.survived).mean()\n",
    "baseline_accuracy"
   ]
  },
  {
   "cell_type": "markdown",
   "id": "d19d0a85",
   "metadata": {},
   "source": [
    "## 2. Fit the decision tree classifier to your training sample and transform (i.e. make predictions on the training sample)"
   ]
  },
  {
   "cell_type": "code",
   "execution_count": null,
   "id": "013e4dea",
   "metadata": {},
   "outputs": [],
   "source": [
    "# List of X_ and y_ for train, validate, and test\n",
    "\n",
    "        # X_train = train.drop(columns=['survived'])\n",
    "        # y_train = train.survived\n",
    "\n",
    "        # X_validate = validate.drop(columns=['survived'])\n",
    "        # y_validate = validate.survived\n",
    "\n",
    "        # X_test = test.drop(columns=['survived'])\n",
    "        # y_test = test.survived"
   ]
  },
  {
   "cell_type": "code",
   "execution_count": 61,
   "id": "9343c13b",
   "metadata": {},
   "outputs": [],
   "source": [
    "# Creating the X & y version of train, where X is a DataFrame of all the features (columns)\n",
    "# and y is a series with the target variable only (survived here).\n",
    "\n",
    "X_train = train.drop(columns=['survived'])\n",
    "y_train = train.survived\n",
    "clf = DecisionTreeClassifier(max_depth=3, random_state=175)\n",
    "\n",
    "clf = clf.fit(X_train, y_train)"
   ]
  },
  {
   "cell_type": "markdown",
   "id": "58a57b08",
   "metadata": {},
   "source": [
    "### Decision tree visualization"
   ]
  },
  {
   "cell_type": "code",
   "execution_count": 21,
   "id": "e35a99f7",
   "metadata": {},
   "outputs": [
    {
     "data": {
      "text/plain": [
       "array([0, 1])"
      ]
     },
     "execution_count": 21,
     "metadata": {},
     "output_type": "execute_result"
    }
   ],
   "source": [
    "clf.classes_"
   ]
  },
  {
   "cell_type": "code",
   "execution_count": 63,
   "id": "15975dee",
   "metadata": {
    "scrolled": false
   },
   "outputs": [
    {
     "data": {
      "text/plain": [
       "[Text(697.5, 951.3000000000001, 'sex_male <= 0.5\\ngini = 0.473\\nsamples = 498\\nvalue = [307, 191]\\nclass = Did not survive'),\n",
       " Text(348.75, 679.5, 'pclass <= 2.5\\ngini = 0.365\\nsamples = 175\\nvalue = [42, 133]\\nclass = Survived'),\n",
       " Text(174.375, 407.70000000000005, 'age <= 3.0\\ngini = 0.081\\nsamples = 94\\nvalue = [4, 90]\\nclass = Survived'),\n",
       " Text(87.1875, 135.89999999999998, 'gini = 0.0\\nsamples = 1\\nvalue = [1, 0]\\nclass = Did not survive'),\n",
       " Text(261.5625, 135.89999999999998, 'gini = 0.062\\nsamples = 93\\nvalue = [3, 90]\\nclass = Survived'),\n",
       " Text(523.125, 407.70000000000005, 'fare <= 23.912\\ngini = 0.498\\nsamples = 81\\nvalue = [38, 43]\\nclass = Survived'),\n",
       " Text(435.9375, 135.89999999999998, 'gini = 0.476\\nsamples = 69\\nvalue = [27, 42]\\nclass = Survived'),\n",
       " Text(610.3125, 135.89999999999998, 'gini = 0.153\\nsamples = 12\\nvalue = [11, 1]\\nclass = Did not survive'),\n",
       " Text(1046.25, 679.5, 'fare <= 18.275\\ngini = 0.295\\nsamples = 323\\nvalue = [265, 58]\\nclass = Did not survive'),\n",
       " Text(871.875, 407.70000000000005, 'age <= 7.835\\ngini = 0.184\\nsamples = 205\\nvalue = [184, 21]\\nclass = Did not survive'),\n",
       " Text(784.6875, 135.89999999999998, 'gini = 0.0\\nsamples = 2\\nvalue = [0, 2]\\nclass = Survived'),\n",
       " Text(959.0625, 135.89999999999998, 'gini = 0.17\\nsamples = 203\\nvalue = [184, 19]\\nclass = Did not survive'),\n",
       " Text(1220.625, 407.70000000000005, 'age <= 53.0\\ngini = 0.43\\nsamples = 118\\nvalue = [81, 37]\\nclass = Did not survive'),\n",
       " Text(1133.4375, 135.89999999999998, 'gini = 0.455\\nsamples = 103\\nvalue = [67, 36]\\nclass = Did not survive'),\n",
       " Text(1307.8125, 135.89999999999998, 'gini = 0.124\\nsamples = 15\\nvalue = [14, 1]\\nclass = Did not survive')]"
      ]
     },
     "execution_count": 63,
     "metadata": {},
     "output_type": "execute_result"
    },
    {
     "data": {
      "image/png": "[encoded data removed]",
      "text/plain": [
       "<Figure size 1800x1440 with 1 Axes>"
      ]
     },
     "metadata": {
      "needs_background": "light"
     },
     "output_type": "display_data"
    }
   ],
   "source": [
    "plt.figure(figsize=(25, 20))\n",
    "plot_tree(clf, feature_names=X_train.columns, class_names=['Did not survive', 'Survived'], rounded=True)"
   ]
  },
  {
   "cell_type": "markdown",
   "id": "f42119c8",
   "metadata": {},
   "source": [
    "## 3. Evaluate your in-sample results using the model score, confusion matrix, and classification report."
   ]
  },
  {
   "cell_type": "markdown",
   "id": "faaab95c",
   "metadata": {},
   "source": [
    "### Prediction"
   ]
  },
  {
   "cell_type": "code",
   "execution_count": 32,
   "id": "9eab3520",
   "metadata": {},
   "outputs": [
    {
     "data": {
      "text/plain": [
       "array([0, 0, 0, 1, 1, 0, 0, 0, 0, 0])"
      ]
     },
     "execution_count": 32,
     "metadata": {},
     "output_type": "execute_result"
    }
   ],
   "source": [
    "y_pred = clf.predict(X_train)\n",
    "y_pred[0:10]"
   ]
  },
  {
   "cell_type": "markdown",
   "id": "4a08959b",
   "metadata": {},
   "source": [
    "### Probability"
   ]
  },
  {
   "cell_type": "code",
   "execution_count": 31,
   "id": "cf5d9815",
   "metadata": {},
   "outputs": [
    {
     "data": {
      "text/plain": [
       "array([[0.65048544, 0.34951456],\n",
       "       [0.65048544, 0.34951456],\n",
       "       [0.65048544, 0.34951456],\n",
       "       [0.03225806, 0.96774194],\n",
       "       [0.03225806, 0.96774194],\n",
       "       [0.65048544, 0.34951456],\n",
       "       [0.65048544, 0.34951456],\n",
       "       [0.90640394, 0.09359606],\n",
       "       [0.90640394, 0.09359606],\n",
       "       [0.91666667, 0.08333333]])"
      ]
     },
     "execution_count": 31,
     "metadata": {},
     "output_type": "execute_result"
    }
   ],
   "source": [
    "y_pred_proba = clf.predict_proba(X_train)\n",
    "y_pred_proba[0:10]"
   ]
  },
  {
   "cell_type": "markdown",
   "id": "7501a7ac",
   "metadata": {},
   "source": [
    "### Accuracy"
   ]
  },
  {
   "cell_type": "code",
   "execution_count": 38,
   "id": "c612a5fe",
   "metadata": {},
   "outputs": [
    {
     "data": {
      "text/plain": [
       "'0.8253012048192772'"
      ]
     },
     "execution_count": 38,
     "metadata": {},
     "output_type": "execute_result"
    }
   ],
   "source": [
    "format(clf.score(X_train, y_train))"
   ]
  },
  {
   "cell_type": "markdown",
   "id": "873eea80",
   "metadata": {},
   "source": [
    "### Confusion matrix"
   ]
  },
  {
   "cell_type": "code",
   "execution_count": 39,
   "id": "665cc1ff",
   "metadata": {},
   "outputs": [
    {
     "data": {
      "text/plain": [
       "array([[277,  30],\n",
       "       [ 57, 134]])"
      ]
     },
     "execution_count": 39,
     "metadata": {},
     "output_type": "execute_result"
    }
   ],
   "source": [
    "confusion_matrix(y_train, y_pred)"
   ]
  },
  {
   "cell_type": "code",
   "execution_count": 40,
   "id": "95b90a31",
   "metadata": {},
   "outputs": [
    {
     "data": {
      "text/plain": [
       "0    307\n",
       "1    191\n",
       "Name: survived, dtype: int64"
      ]
     },
     "execution_count": 40,
     "metadata": {},
     "output_type": "execute_result"
    }
   ],
   "source": [
    "y_train.value_counts()"
   ]
  },
  {
   "cell_type": "markdown",
   "id": "66a71e9d",
   "metadata": {},
   "source": [
    "### Classification report"
   ]
  },
  {
   "cell_type": "code",
   "execution_count": 44,
   "id": "743b1420",
   "metadata": {},
   "outputs": [
    {
     "data": {
      "text/html": [
       "<div>\n",
       "<style scoped>\n",
       "    .dataframe tbody tr th:only-of-type {\n",
       "        vertical-align: middle;\n",
       "    }\n",
       "\n",
       "    .dataframe tbody tr th {\n",
       "        vertical-align: top;\n",
       "    }\n",
       "\n",
       "    .dataframe thead th {\n",
       "        text-align: right;\n",
       "    }\n",
       "</style>\n",
       "<table border=\"1\" class=\"dataframe\">\n",
       "  <thead>\n",
       "    <tr style=\"text-align: right;\">\n",
       "      <th></th>\n",
       "      <th>0</th>\n",
       "      <th>1</th>\n",
       "    </tr>\n",
       "  </thead>\n",
       "  <tbody>\n",
       "    <tr>\n",
       "      <th>0</th>\n",
       "      <td>277</td>\n",
       "      <td>30</td>\n",
       "    </tr>\n",
       "    <tr>\n",
       "      <th>1</th>\n",
       "      <td>57</td>\n",
       "      <td>134</td>\n",
       "    </tr>\n",
       "  </tbody>\n",
       "</table>\n",
       "</div>"
      ],
      "text/plain": [
       "     0    1\n",
       "0  277   30\n",
       "1   57  134"
      ]
     },
     "execution_count": 44,
     "metadata": {},
     "output_type": "execute_result"
    }
   ],
   "source": [
    "pd.DataFrame(confusion_matrix(y_train, y_pred), index=labels, columns=labels)"
   ]
  },
  {
   "cell_type": "code",
   "execution_count": 42,
   "id": "3a8a2794",
   "metadata": {},
   "outputs": [
    {
     "name": "stdout",
     "output_type": "stream",
     "text": [
      "              precision    recall  f1-score   support\n",
      "\n",
      "           0       0.83      0.90      0.86       307\n",
      "           1       0.82      0.70      0.75       191\n",
      "\n",
      "    accuracy                           0.83       498\n",
      "   macro avg       0.82      0.80      0.81       498\n",
      "weighted avg       0.82      0.83      0.82       498\n",
      "\n"
     ]
    }
   ],
   "source": [
    "print(classification_report(y_train, y_pred))"
   ]
  },
  {
   "cell_type": "markdown",
   "id": "c96443f5",
   "metadata": {},
   "source": [
    "## 4. Compute: Accuracy, true positive rate, false positive rate, true negative rate, false negative rate, precision, recall, f1-score, and support."
   ]
  },
  {
   "cell_type": "code",
   "execution_count": 69,
   "id": "bbbda954",
   "metadata": {},
   "outputs": [
    {
     "name": "stdout",
     "output_type": "stream",
     "text": [
      "True_positive_rate: 135.0\n",
      "True_negative_rate: 31.0\n",
      "False_positive_rate: 135.0\n",
      "False_negative_rate: 278.0\n",
      "\n",
      "============================\n",
      "\n",
      "Precision: 0.9022801302931596\n",
      "Accuracy: 0.8253012048192772\n",
      "Recall: 0.8293413173652695\n"
     ]
    }
   ],
   "source": [
    "TP = 277\n",
    "TN = 134\n",
    "FP = 30\n",
    "FN = 57\n",
    "\n",
    "True_positive_rate = TP/TP+TN\n",
    "True_negative_rate = TN/TN+FP\n",
    "False_positive_rate = FP/FP+TN\n",
    "False_negative_rate = FN/FN+TP\n",
    "\n",
    "Precision = TP/(TP+FP)\n",
    "Accuracy = (TP+TN)/(TP+TN+FP+FN)\n",
    "Recall = TP/(TP+FN)\n",
    "# F1-score = \n",
    "# Support = \n",
    "\n",
    "print(f'True_positive_rate: {True_positive_rate}')\n",
    "print(f'True_negative_rate: {True_negative_rate}')\n",
    "print(f'False_positive_rate: {False_positive_rate}')\n",
    "print(f'False_negative_rate: {False_negative_rate}\\n')\n",
    "print('============================\\n')\n",
    "print(f'Precision: {Precision}')\n",
    "print(f'Accuracy: {Accuracy}')\n",
    "print(f'Recall: {Recall}')"
   ]
  },
  {
   "cell_type": "code",
   "execution_count": null,
   "id": "221f30b6",
   "metadata": {},
   "outputs": [],
   "source": []
  },
  {
   "cell_type": "markdown",
   "id": "0631a2d2",
   "metadata": {},
   "source": [
    "## Model for max_depth = 5"
   ]
  },
  {
   "cell_type": "code",
   "execution_count": 75,
   "id": "5b5ea801",
   "metadata": {},
   "outputs": [],
   "source": [
    "X_train2 = train.drop(columns=['survived'])\n",
    "y_train2 = train.survived\n",
    "clf2 = DecisionTreeClassifier(max_depth=5, random_state=175)\n",
    "\n",
    "clf2 = clf2.fit(X_train2, y_train2)"
   ]
  },
  {
   "cell_type": "code",
   "execution_count": 76,
   "id": "641f35c0",
   "metadata": {
    "scrolled": false
   },
   "outputs": [
    {
     "data": {
      "text/plain": [
       "[Text(641.25, 996.6, 'sex_male <= 0.5\\ngini = 0.473\\nsamples = 498\\nvalue = [307, 191]\\nclass = Did not survive'),\n",
       " Text(281.25, 815.4000000000001, 'pclass <= 2.5\\ngini = 0.365\\nsamples = 175\\nvalue = [42, 133]\\nclass = Survived'),\n",
       " Text(90.0, 634.2, 'age <= 3.0\\ngini = 0.081\\nsamples = 94\\nvalue = [4, 90]\\nclass = Survived'),\n",
       " Text(45.0, 453.0, 'gini = 0.0\\nsamples = 1\\nvalue = [1, 0]\\nclass = Did not survive'),\n",
       " Text(135.0, 453.0, 'fare <= 28.856\\ngini = 0.062\\nsamples = 93\\nvalue = [3, 90]\\nclass = Survived'),\n",
       " Text(90.0, 271.79999999999995, 'fare <= 28.231\\ngini = 0.133\\nsamples = 42\\nvalue = [3, 39]\\nclass = Survived'),\n",
       " Text(45.0, 90.59999999999991, 'gini = 0.093\\nsamples = 41\\nvalue = [2, 39]\\nclass = Survived'),\n",
       " Text(135.0, 90.59999999999991, 'gini = 0.0\\nsamples = 1\\nvalue = [1, 0]\\nclass = Did not survive'),\n",
       " Text(180.0, 271.79999999999995, 'gini = 0.0\\nsamples = 51\\nvalue = [0, 51]\\nclass = Survived'),\n",
       " Text(472.5, 634.2, 'fare <= 23.912\\ngini = 0.498\\nsamples = 81\\nvalue = [38, 43]\\nclass = Survived'),\n",
       " Text(360.0, 453.0, 'age <= 35.0\\ngini = 0.476\\nsamples = 69\\nvalue = [27, 42]\\nclass = Survived'),\n",
       " Text(270.0, 271.79999999999995, 'embark_town_Queenstown <= 0.5\\ngini = 0.455\\nsamples = 63\\nvalue = [22, 41]\\nclass = Survived'),\n",
       " Text(225.0, 90.59999999999991, 'gini = 0.487\\nsamples = 43\\nvalue = [18, 25]\\nclass = Survived'),\n",
       " Text(315.0, 90.59999999999991, 'gini = 0.32\\nsamples = 20\\nvalue = [4, 16]\\nclass = Survived'),\n",
       " Text(450.0, 271.79999999999995, 'age <= 55.0\\ngini = 0.278\\nsamples = 6\\nvalue = [5, 1]\\nclass = Did not survive'),\n",
       " Text(405.0, 90.59999999999991, 'gini = 0.0\\nsamples = 5\\nvalue = [5, 0]\\nclass = Did not survive'),\n",
       " Text(495.0, 90.59999999999991, 'gini = 0.0\\nsamples = 1\\nvalue = [0, 1]\\nclass = Survived'),\n",
       " Text(585.0, 453.0, 'parch <= 4.0\\ngini = 0.153\\nsamples = 12\\nvalue = [11, 1]\\nclass = Did not survive'),\n",
       " Text(540.0, 271.79999999999995, 'gini = 0.0\\nsamples = 10\\nvalue = [10, 0]\\nclass = Did not survive'),\n",
       " Text(630.0, 271.79999999999995, 'age <= 39.5\\ngini = 0.5\\nsamples = 2\\nvalue = [1, 1]\\nclass = Did not survive'),\n",
       " Text(585.0, 90.59999999999991, 'gini = 0.0\\nsamples = 1\\nvalue = [0, 1]\\nclass = Survived'),\n",
       " Text(675.0, 90.59999999999991, 'gini = 0.0\\nsamples = 1\\nvalue = [1, 0]\\nclass = Did not survive'),\n",
       " Text(1001.25, 815.4000000000001, 'fare <= 18.275\\ngini = 0.295\\nsamples = 323\\nvalue = [265, 58]\\nclass = Did not survive'),\n",
       " Text(810.0, 634.2, 'age <= 7.835\\ngini = 0.184\\nsamples = 205\\nvalue = [184, 21]\\nclass = Did not survive'),\n",
       " Text(765.0, 453.0, 'gini = 0.0\\nsamples = 2\\nvalue = [0, 2]\\nclass = Survived'),\n",
       " Text(855.0, 453.0, 'fare <= 13.25\\ngini = 0.17\\nsamples = 203\\nvalue = [184, 19]\\nclass = Did not survive'),\n",
       " Text(810.0, 271.79999999999995, 'fare <= 12.637\\ngini = 0.183\\nsamples = 187\\nvalue = [168, 19]\\nclass = Did not survive'),\n",
       " Text(765.0, 90.59999999999991, 'gini = 0.163\\nsamples = 168\\nvalue = [153, 15]\\nclass = Did not survive'),\n",
       " Text(855.0, 90.59999999999991, 'gini = 0.332\\nsamples = 19\\nvalue = [15, 4]\\nclass = Did not survive'),\n",
       " Text(900.0, 271.79999999999995, 'gini = 0.0\\nsamples = 16\\nvalue = [16, 0]\\nclass = Did not survive'),\n",
       " Text(1192.5, 634.2, 'age <= 53.0\\ngini = 0.43\\nsamples = 118\\nvalue = [81, 37]\\nclass = Did not survive'),\n",
       " Text(1080.0, 453.0, 'sibsp <= 2.5\\ngini = 0.455\\nsamples = 103\\nvalue = [67, 36]\\nclass = Did not survive'),\n",
       " Text(990.0, 271.79999999999995, 'age <= 12.5\\ngini = 0.477\\nsamples = 89\\nvalue = [54, 35]\\nclass = Did not survive'),\n",
       " Text(945.0, 90.59999999999991, 'gini = 0.0\\nsamples = 6\\nvalue = [0, 6]\\nclass = Survived'),\n",
       " Text(1035.0, 90.59999999999991, 'gini = 0.455\\nsamples = 83\\nvalue = [54, 29]\\nclass = Did not survive'),\n",
       " Text(1170.0, 271.79999999999995, 'age <= 3.5\\ngini = 0.133\\nsamples = 14\\nvalue = [13, 1]\\nclass = Did not survive'),\n",
       " Text(1125.0, 90.59999999999991, 'gini = 0.32\\nsamples = 5\\nvalue = [4, 1]\\nclass = Did not survive'),\n",
       " Text(1215.0, 90.59999999999991, 'gini = 0.0\\nsamples = 9\\nvalue = [9, 0]\\nclass = Did not survive'),\n",
       " Text(1305.0, 453.0, 'age <= 75.5\\ngini = 0.124\\nsamples = 15\\nvalue = [14, 1]\\nclass = Did not survive'),\n",
       " Text(1260.0, 271.79999999999995, 'gini = 0.0\\nsamples = 14\\nvalue = [14, 0]\\nclass = Did not survive'),\n",
       " Text(1350.0, 271.79999999999995, 'gini = 0.0\\nsamples = 1\\nvalue = [0, 1]\\nclass = Survived')]"
      ]
     },
     "execution_count": 76,
     "metadata": {},
     "output_type": "execute_result"
    },
    {
     "data": {
      "image/png": "[encoded data removed]",
      "text/plain": [
       "<Figure size 1800x1440 with 1 Axes>"
      ]
     },
     "metadata": {
      "needs_background": "light"
     },
     "output_type": "display_data"
    }
   ],
   "source": [
    "plt.figure(figsize=(25, 20))\n",
    "plot_tree(clf2, feature_names=X_train.columns, class_names=['Did not survive', 'Survived'], rounded=True)"
   ]
  },
  {
   "cell_type": "markdown",
   "id": "58f1fb10",
   "metadata": {},
   "source": [
    "### 3. Evaluate your in-sample results using the model score, confusion matrix, and classification report."
   ]
  },
  {
   "cell_type": "markdown",
   "id": "c89da685",
   "metadata": {},
   "source": [
    "#### Prediction"
   ]
  },
  {
   "cell_type": "code",
   "execution_count": 90,
   "id": "20bccfdc",
   "metadata": {},
   "outputs": [
    {
     "data": {
      "text/plain": [
       "array([0, 1, 0, 1, 1, 0, 0, 0, 0, 0])"
      ]
     },
     "execution_count": 90,
     "metadata": {},
     "output_type": "execute_result"
    }
   ],
   "source": [
    "y_pred2 = clf2.predict(X_train2)\n",
    "y_pred2[0:10]"
   ]
  },
  {
   "cell_type": "markdown",
   "id": "8d34b7b2",
   "metadata": {},
   "source": [
    "#### Probability"
   ]
  },
  {
   "cell_type": "code",
   "execution_count": 91,
   "id": "5c9d2c46",
   "metadata": {},
   "outputs": [
    {
     "data": {
      "text/plain": [
       "array([[0.65060241, 0.34939759],\n",
       "       [0.        , 1.        ],\n",
       "       [1.        , 0.        ],\n",
       "       [0.04878049, 0.95121951],\n",
       "       [0.        , 1.        ],\n",
       "       [0.65060241, 0.34939759],\n",
       "       [0.65060241, 0.34939759],\n",
       "       [0.91071429, 0.08928571],\n",
       "       [0.91071429, 0.08928571],\n",
       "       [1.        , 0.        ]])"
      ]
     },
     "execution_count": 91,
     "metadata": {},
     "output_type": "execute_result"
    }
   ],
   "source": [
    "y_pred_proba2 = clf2.predict_proba(X_train2)\n",
    "y_pred_proba2[0:10]"
   ]
  },
  {
   "cell_type": "code",
   "execution_count": 93,
   "id": "12fb98ad",
   "metadata": {},
   "outputs": [
    {
     "data": {
      "text/plain": [
       "array([[283,  24],\n",
       "       [ 49, 142]])"
      ]
     },
     "execution_count": 93,
     "metadata": {},
     "output_type": "execute_result"
    }
   ],
   "source": [
    "confusion_matrix(y_train2, y_pred2)"
   ]
  },
  {
   "cell_type": "code",
   "execution_count": 94,
   "id": "b659b58e",
   "metadata": {},
   "outputs": [
    {
     "data": {
      "text/plain": [
       "0    307\n",
       "1    191\n",
       "Name: survived, dtype: int64"
      ]
     },
     "execution_count": 94,
     "metadata": {},
     "output_type": "execute_result"
    }
   ],
   "source": [
    "y_train2.value_counts()"
   ]
  },
  {
   "cell_type": "markdown",
   "id": "d516fe0c",
   "metadata": {},
   "source": [
    "#### Accuracy"
   ]
  },
  {
   "cell_type": "code",
   "execution_count": 95,
   "id": "ffa0e38d",
   "metadata": {},
   "outputs": [
    {
     "data": {
      "text/plain": [
       "'0.8534136546184738'"
      ]
     },
     "execution_count": 95,
     "metadata": {},
     "output_type": "execute_result"
    }
   ],
   "source": [
    "format(clf2.score(X_train2, y_train2))"
   ]
  },
  {
   "cell_type": "code",
   "execution_count": 98,
   "id": "d64d6941",
   "metadata": {
    "scrolled": true
   },
   "outputs": [
    {
     "data": {
      "text/html": [
       "<div>\n",
       "<style scoped>\n",
       "    .dataframe tbody tr th:only-of-type {\n",
       "        vertical-align: middle;\n",
       "    }\n",
       "\n",
       "    .dataframe tbody tr th {\n",
       "        vertical-align: top;\n",
       "    }\n",
       "\n",
       "    .dataframe thead th {\n",
       "        text-align: right;\n",
       "    }\n",
       "</style>\n",
       "<table border=\"1\" class=\"dataframe\">\n",
       "  <thead>\n",
       "    <tr style=\"text-align: right;\">\n",
       "      <th></th>\n",
       "      <th>0</th>\n",
       "      <th>1</th>\n",
       "    </tr>\n",
       "  </thead>\n",
       "  <tbody>\n",
       "    <tr>\n",
       "      <th>0</th>\n",
       "      <td>283</td>\n",
       "      <td>24</td>\n",
       "    </tr>\n",
       "    <tr>\n",
       "      <th>1</th>\n",
       "      <td>49</td>\n",
       "      <td>142</td>\n",
       "    </tr>\n",
       "  </tbody>\n",
       "</table>\n",
       "</div>"
      ],
      "text/plain": [
       "     0    1\n",
       "0  283   24\n",
       "1   49  142"
      ]
     },
     "execution_count": 98,
     "metadata": {},
     "output_type": "execute_result"
    }
   ],
   "source": [
    "pd.DataFrame(confusion_matrix(y_train2, y_pred2), index=labels, columns=labels)"
   ]
  },
  {
   "cell_type": "code",
   "execution_count": 99,
   "id": "6647d645",
   "metadata": {
    "scrolled": true
   },
   "outputs": [
    {
     "name": "stdout",
     "output_type": "stream",
     "text": [
      "              precision    recall  f1-score   support\n",
      "\n",
      "           0       0.85      0.92      0.89       307\n",
      "           1       0.86      0.74      0.80       191\n",
      "\n",
      "    accuracy                           0.85       498\n",
      "   macro avg       0.85      0.83      0.84       498\n",
      "weighted avg       0.85      0.85      0.85       498\n",
      "\n"
     ]
    }
   ],
   "source": [
    "print(classification_report(y_train2, y_pred2))"
   ]
  },
  {
   "cell_type": "markdown",
   "id": "6f2516ca",
   "metadata": {},
   "source": [
    "### 4. Compute: Accuracy, true positive rate, false positive rate, true negative rate, false negative rate, precision, recall, f1-score, and support."
   ]
  },
  {
   "cell_type": "code",
   "execution_count": 100,
   "id": "5c42c3b9",
   "metadata": {},
   "outputs": [
    {
     "name": "stdout",
     "output_type": "stream",
     "text": [
      "True_positive_rate: 143.0\n",
      "True_negative_rate: 25.0\n",
      "False_positive_rate: 143.0\n",
      "False_negative_rate: 284.0\n",
      "\n",
      "============================\n",
      "\n",
      "Precision: 0.9218241042345277\n",
      "Accuracy: 0.8534136546184738\n",
      "Recall: 0.8524096385542169\n"
     ]
    }
   ],
   "source": [
    "TP = 283\n",
    "TN = 142\n",
    "FP = 24\n",
    "FN = 49\n",
    "\n",
    "True_positive_rate = TP/TP+TN\n",
    "True_negative_rate = TN/TN+FP\n",
    "False_positive_rate = FP/FP+TN\n",
    "False_negative_rate = FN/FN+TP\n",
    "\n",
    "Precision = TP/(TP+FP)\n",
    "Accuracy = (TP+TN)/(TP+TN+FP+FN)\n",
    "Recall = TP/(TP+FN)\n",
    "# F1-score = \n",
    "# Support = \n",
    "\n",
    "print(f'True_positive_rate: {True_positive_rate}')\n",
    "print(f'True_negative_rate: {True_negative_rate}')\n",
    "print(f'False_positive_rate: {False_positive_rate}')\n",
    "print(f'False_negative_rate: {False_negative_rate}\\n')\n",
    "print('============================\\n')\n",
    "print(f'Precision: {Precision}')\n",
    "print(f'Accuracy: {Accuracy}')\n",
    "print(f'Recall: {Recall}')"
   ]
  },
  {
   "cell_type": "markdown",
   "id": "fc5c70fc",
   "metadata": {},
   "source": [
    "# Telco"
   ]
  },
  {
   "cell_type": "code",
   "execution_count": null,
   "id": "73a01bbe",
   "metadata": {},
   "outputs": [],
   "source": [
    "train = train.replace({'Yes':1, 'No':0})"
   ]
  },
  {
   "cell_type": "code",
   "execution_count": null,
   "id": "aa39c1a8",
   "metadata": {},
   "outputs": [],
   "source": [
    "train = train.drop(columns=['gender','contract_type',\n",
    "                            'payment_type', 'internet_service_type',\n",
    "                           'multiple_lines_No phone service',\n",
    "                            'multiple_lines'])"
   ]
  }
 ],
 "metadata": {
  "kernelspec": {
   "display_name": "Python 3 (ipykernel)",
   "language": "python",
   "name": "python3"
  },
  "language_info": {
   "codemirror_mode": {
    "name": "ipython",
    "version": 3
   },
   "file_extension": ".py",
   "mimetype": "text/x-python",
   "name": "python",
   "nbconvert_exporter": "python",
   "pygments_lexer": "ipython3",
   "version": "3.9.7"
  }
 },
 "nbformat": 4,
 "nbformat_minor": 5
}
